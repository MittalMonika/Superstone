{
 "cells": [
  {
   "cell_type": "markdown",
   "id": "3c3bc401-5b60-499b-a61c-7afb4c49d118",
   "metadata": {},
   "source": [
    "# Superstore Sales Analysis\n",
    "The initial stage of data analysis entails pre-processing, which encompasses several steps:\n",
    "\n",
    "Step 1: Eliminating duplicate rows, except for the Row_ID column.\n",
    " \n",
    "Step 2: Removing rows that contain a few missing values.\n",
    " \n",
    "Step 3: Disregarding any irrelevant values in each column, if any.\n",
    "Ensuring that all values in a column are valid (e.g., ensuring that the order date and ship date values are in the correct date format). Additionally, for each entry in the dataset, the ship date must be greater than or equal to the order date.\n",
    " \n",
    "Step 4: Exporting the cleaned dataset as a .csv file with a preference for UTF-8 encoding"
   ]
  },
  {
   "cell_type": "code",
   "execution_count": 3,
   "id": "0c5a0606-4d37-4b39-89d0-fc624f69673c",
   "metadata": {},
   "outputs": [
    {
     "ename": "FileNotFoundError",
     "evalue": "[Errno 2] No such file or directory: 'superstore_final_dataset.csv'",
     "output_type": "error",
     "traceback": [
      "\u001b[0;31m---------------------------------------------------------------------------\u001b[0m",
      "\u001b[0;31mFileNotFoundError\u001b[0m                         Traceback (most recent call last)",
      "Cell \u001b[0;32mIn [3], line 4\u001b[0m\n\u001b[1;32m      2\u001b[0m \u001b[38;5;28;01mimport\u001b[39;00m \u001b[38;5;21;01mpandas\u001b[39;00m \u001b[38;5;28;01mas\u001b[39;00m \u001b[38;5;21;01mpd\u001b[39;00m\n\u001b[1;32m      3\u001b[0m \u001b[38;5;28;01mimport\u001b[39;00m \u001b[38;5;21;01mnumpy\u001b[39;00m \u001b[38;5;28;01mas\u001b[39;00m \u001b[38;5;21;01mnp\u001b[39;00m\n\u001b[0;32m----> 4\u001b[0m df \u001b[38;5;241m=\u001b[39m \u001b[43mpd\u001b[49m\u001b[38;5;241;43m.\u001b[39;49m\u001b[43mread_csv\u001b[49m\u001b[43m(\u001b[49m\u001b[38;5;124;43m\"\u001b[39;49m\u001b[38;5;124;43msuperstore_final_dataset.csv\u001b[39;49m\u001b[38;5;124;43m\"\u001b[39;49m\u001b[43m)\u001b[49m\n\u001b[1;32m      5\u001b[0m df\u001b[38;5;241m.\u001b[39mhead()\n",
      "File \u001b[0;32m/opt/conda/lib/python3.8/site-packages/pandas/util/_decorators.py:211\u001b[0m, in \u001b[0;36mdeprecate_kwarg.<locals>._deprecate_kwarg.<locals>.wrapper\u001b[0;34m(*args, **kwargs)\u001b[0m\n\u001b[1;32m    209\u001b[0m     \u001b[38;5;28;01melse\u001b[39;00m:\n\u001b[1;32m    210\u001b[0m         kwargs[new_arg_name] \u001b[38;5;241m=\u001b[39m new_arg_value\n\u001b[0;32m--> 211\u001b[0m \u001b[38;5;28;01mreturn\u001b[39;00m \u001b[43mfunc\u001b[49m\u001b[43m(\u001b[49m\u001b[38;5;241;43m*\u001b[39;49m\u001b[43margs\u001b[49m\u001b[43m,\u001b[49m\u001b[43m \u001b[49m\u001b[38;5;241;43m*\u001b[39;49m\u001b[38;5;241;43m*\u001b[39;49m\u001b[43mkwargs\u001b[49m\u001b[43m)\u001b[49m\n",
      "File \u001b[0;32m/opt/conda/lib/python3.8/site-packages/pandas/util/_decorators.py:331\u001b[0m, in \u001b[0;36mdeprecate_nonkeyword_arguments.<locals>.decorate.<locals>.wrapper\u001b[0;34m(*args, **kwargs)\u001b[0m\n\u001b[1;32m    325\u001b[0m \u001b[38;5;28;01mif\u001b[39;00m \u001b[38;5;28mlen\u001b[39m(args) \u001b[38;5;241m>\u001b[39m num_allow_args:\n\u001b[1;32m    326\u001b[0m     warnings\u001b[38;5;241m.\u001b[39mwarn(\n\u001b[1;32m    327\u001b[0m         msg\u001b[38;5;241m.\u001b[39mformat(arguments\u001b[38;5;241m=\u001b[39m_format_argument_list(allow_args)),\n\u001b[1;32m    328\u001b[0m         \u001b[38;5;167;01mFutureWarning\u001b[39;00m,\n\u001b[1;32m    329\u001b[0m         stacklevel\u001b[38;5;241m=\u001b[39mfind_stack_level(),\n\u001b[1;32m    330\u001b[0m     )\n\u001b[0;32m--> 331\u001b[0m \u001b[38;5;28;01mreturn\u001b[39;00m \u001b[43mfunc\u001b[49m\u001b[43m(\u001b[49m\u001b[38;5;241;43m*\u001b[39;49m\u001b[43margs\u001b[49m\u001b[43m,\u001b[49m\u001b[43m \u001b[49m\u001b[38;5;241;43m*\u001b[39;49m\u001b[38;5;241;43m*\u001b[39;49m\u001b[43mkwargs\u001b[49m\u001b[43m)\u001b[49m\n",
      "File \u001b[0;32m/opt/conda/lib/python3.8/site-packages/pandas/io/parsers/readers.py:950\u001b[0m, in \u001b[0;36mread_csv\u001b[0;34m(filepath_or_buffer, sep, delimiter, header, names, index_col, usecols, squeeze, prefix, mangle_dupe_cols, dtype, engine, converters, true_values, false_values, skipinitialspace, skiprows, skipfooter, nrows, na_values, keep_default_na, na_filter, verbose, skip_blank_lines, parse_dates, infer_datetime_format, keep_date_col, date_parser, dayfirst, cache_dates, iterator, chunksize, compression, thousands, decimal, lineterminator, quotechar, quoting, doublequote, escapechar, comment, encoding, encoding_errors, dialect, error_bad_lines, warn_bad_lines, on_bad_lines, delim_whitespace, low_memory, memory_map, float_precision, storage_options)\u001b[0m\n\u001b[1;32m    935\u001b[0m kwds_defaults \u001b[38;5;241m=\u001b[39m _refine_defaults_read(\n\u001b[1;32m    936\u001b[0m     dialect,\n\u001b[1;32m    937\u001b[0m     delimiter,\n\u001b[0;32m   (...)\u001b[0m\n\u001b[1;32m    946\u001b[0m     defaults\u001b[38;5;241m=\u001b[39m{\u001b[38;5;124m\"\u001b[39m\u001b[38;5;124mdelimiter\u001b[39m\u001b[38;5;124m\"\u001b[39m: \u001b[38;5;124m\"\u001b[39m\u001b[38;5;124m,\u001b[39m\u001b[38;5;124m\"\u001b[39m},\n\u001b[1;32m    947\u001b[0m )\n\u001b[1;32m    948\u001b[0m kwds\u001b[38;5;241m.\u001b[39mupdate(kwds_defaults)\n\u001b[0;32m--> 950\u001b[0m \u001b[38;5;28;01mreturn\u001b[39;00m \u001b[43m_read\u001b[49m\u001b[43m(\u001b[49m\u001b[43mfilepath_or_buffer\u001b[49m\u001b[43m,\u001b[49m\u001b[43m \u001b[49m\u001b[43mkwds\u001b[49m\u001b[43m)\u001b[49m\n",
      "File \u001b[0;32m/opt/conda/lib/python3.8/site-packages/pandas/io/parsers/readers.py:605\u001b[0m, in \u001b[0;36m_read\u001b[0;34m(filepath_or_buffer, kwds)\u001b[0m\n\u001b[1;32m    602\u001b[0m _validate_names(kwds\u001b[38;5;241m.\u001b[39mget(\u001b[38;5;124m\"\u001b[39m\u001b[38;5;124mnames\u001b[39m\u001b[38;5;124m\"\u001b[39m, \u001b[38;5;28;01mNone\u001b[39;00m))\n\u001b[1;32m    604\u001b[0m \u001b[38;5;66;03m# Create the parser.\u001b[39;00m\n\u001b[0;32m--> 605\u001b[0m parser \u001b[38;5;241m=\u001b[39m \u001b[43mTextFileReader\u001b[49m\u001b[43m(\u001b[49m\u001b[43mfilepath_or_buffer\u001b[49m\u001b[43m,\u001b[49m\u001b[43m \u001b[49m\u001b[38;5;241;43m*\u001b[39;49m\u001b[38;5;241;43m*\u001b[39;49m\u001b[43mkwds\u001b[49m\u001b[43m)\u001b[49m\n\u001b[1;32m    607\u001b[0m \u001b[38;5;28;01mif\u001b[39;00m chunksize \u001b[38;5;129;01mor\u001b[39;00m iterator:\n\u001b[1;32m    608\u001b[0m     \u001b[38;5;28;01mreturn\u001b[39;00m parser\n",
      "File \u001b[0;32m/opt/conda/lib/python3.8/site-packages/pandas/io/parsers/readers.py:1442\u001b[0m, in \u001b[0;36mTextFileReader.__init__\u001b[0;34m(self, f, engine, **kwds)\u001b[0m\n\u001b[1;32m   1439\u001b[0m     \u001b[38;5;28mself\u001b[39m\u001b[38;5;241m.\u001b[39moptions[\u001b[38;5;124m\"\u001b[39m\u001b[38;5;124mhas_index_names\u001b[39m\u001b[38;5;124m\"\u001b[39m] \u001b[38;5;241m=\u001b[39m kwds[\u001b[38;5;124m\"\u001b[39m\u001b[38;5;124mhas_index_names\u001b[39m\u001b[38;5;124m\"\u001b[39m]\n\u001b[1;32m   1441\u001b[0m \u001b[38;5;28mself\u001b[39m\u001b[38;5;241m.\u001b[39mhandles: IOHandles \u001b[38;5;241m|\u001b[39m \u001b[38;5;28;01mNone\u001b[39;00m \u001b[38;5;241m=\u001b[39m \u001b[38;5;28;01mNone\u001b[39;00m\n\u001b[0;32m-> 1442\u001b[0m \u001b[38;5;28mself\u001b[39m\u001b[38;5;241m.\u001b[39m_engine \u001b[38;5;241m=\u001b[39m \u001b[38;5;28;43mself\u001b[39;49m\u001b[38;5;241;43m.\u001b[39;49m\u001b[43m_make_engine\u001b[49m\u001b[43m(\u001b[49m\u001b[43mf\u001b[49m\u001b[43m,\u001b[49m\u001b[43m \u001b[49m\u001b[38;5;28;43mself\u001b[39;49m\u001b[38;5;241;43m.\u001b[39;49m\u001b[43mengine\u001b[49m\u001b[43m)\u001b[49m\n",
      "File \u001b[0;32m/opt/conda/lib/python3.8/site-packages/pandas/io/parsers/readers.py:1735\u001b[0m, in \u001b[0;36mTextFileReader._make_engine\u001b[0;34m(self, f, engine)\u001b[0m\n\u001b[1;32m   1733\u001b[0m     \u001b[38;5;28;01mif\u001b[39;00m \u001b[38;5;124m\"\u001b[39m\u001b[38;5;124mb\u001b[39m\u001b[38;5;124m\"\u001b[39m \u001b[38;5;129;01mnot\u001b[39;00m \u001b[38;5;129;01min\u001b[39;00m mode:\n\u001b[1;32m   1734\u001b[0m         mode \u001b[38;5;241m+\u001b[39m\u001b[38;5;241m=\u001b[39m \u001b[38;5;124m\"\u001b[39m\u001b[38;5;124mb\u001b[39m\u001b[38;5;124m\"\u001b[39m\n\u001b[0;32m-> 1735\u001b[0m \u001b[38;5;28mself\u001b[39m\u001b[38;5;241m.\u001b[39mhandles \u001b[38;5;241m=\u001b[39m \u001b[43mget_handle\u001b[49m\u001b[43m(\u001b[49m\n\u001b[1;32m   1736\u001b[0m \u001b[43m    \u001b[49m\u001b[43mf\u001b[49m\u001b[43m,\u001b[49m\n\u001b[1;32m   1737\u001b[0m \u001b[43m    \u001b[49m\u001b[43mmode\u001b[49m\u001b[43m,\u001b[49m\n\u001b[1;32m   1738\u001b[0m \u001b[43m    \u001b[49m\u001b[43mencoding\u001b[49m\u001b[38;5;241;43m=\u001b[39;49m\u001b[38;5;28;43mself\u001b[39;49m\u001b[38;5;241;43m.\u001b[39;49m\u001b[43moptions\u001b[49m\u001b[38;5;241;43m.\u001b[39;49m\u001b[43mget\u001b[49m\u001b[43m(\u001b[49m\u001b[38;5;124;43m\"\u001b[39;49m\u001b[38;5;124;43mencoding\u001b[39;49m\u001b[38;5;124;43m\"\u001b[39;49m\u001b[43m,\u001b[49m\u001b[43m \u001b[49m\u001b[38;5;28;43;01mNone\u001b[39;49;00m\u001b[43m)\u001b[49m\u001b[43m,\u001b[49m\n\u001b[1;32m   1739\u001b[0m \u001b[43m    \u001b[49m\u001b[43mcompression\u001b[49m\u001b[38;5;241;43m=\u001b[39;49m\u001b[38;5;28;43mself\u001b[39;49m\u001b[38;5;241;43m.\u001b[39;49m\u001b[43moptions\u001b[49m\u001b[38;5;241;43m.\u001b[39;49m\u001b[43mget\u001b[49m\u001b[43m(\u001b[49m\u001b[38;5;124;43m\"\u001b[39;49m\u001b[38;5;124;43mcompression\u001b[39;49m\u001b[38;5;124;43m\"\u001b[39;49m\u001b[43m,\u001b[49m\u001b[43m \u001b[49m\u001b[38;5;28;43;01mNone\u001b[39;49;00m\u001b[43m)\u001b[49m\u001b[43m,\u001b[49m\n\u001b[1;32m   1740\u001b[0m \u001b[43m    \u001b[49m\u001b[43mmemory_map\u001b[49m\u001b[38;5;241;43m=\u001b[39;49m\u001b[38;5;28;43mself\u001b[39;49m\u001b[38;5;241;43m.\u001b[39;49m\u001b[43moptions\u001b[49m\u001b[38;5;241;43m.\u001b[39;49m\u001b[43mget\u001b[49m\u001b[43m(\u001b[49m\u001b[38;5;124;43m\"\u001b[39;49m\u001b[38;5;124;43mmemory_map\u001b[39;49m\u001b[38;5;124;43m\"\u001b[39;49m\u001b[43m,\u001b[49m\u001b[43m \u001b[49m\u001b[38;5;28;43;01mFalse\u001b[39;49;00m\u001b[43m)\u001b[49m\u001b[43m,\u001b[49m\n\u001b[1;32m   1741\u001b[0m \u001b[43m    \u001b[49m\u001b[43mis_text\u001b[49m\u001b[38;5;241;43m=\u001b[39;49m\u001b[43mis_text\u001b[49m\u001b[43m,\u001b[49m\n\u001b[1;32m   1742\u001b[0m \u001b[43m    \u001b[49m\u001b[43merrors\u001b[49m\u001b[38;5;241;43m=\u001b[39;49m\u001b[38;5;28;43mself\u001b[39;49m\u001b[38;5;241;43m.\u001b[39;49m\u001b[43moptions\u001b[49m\u001b[38;5;241;43m.\u001b[39;49m\u001b[43mget\u001b[49m\u001b[43m(\u001b[49m\u001b[38;5;124;43m\"\u001b[39;49m\u001b[38;5;124;43mencoding_errors\u001b[39;49m\u001b[38;5;124;43m\"\u001b[39;49m\u001b[43m,\u001b[49m\u001b[43m \u001b[49m\u001b[38;5;124;43m\"\u001b[39;49m\u001b[38;5;124;43mstrict\u001b[39;49m\u001b[38;5;124;43m\"\u001b[39;49m\u001b[43m)\u001b[49m\u001b[43m,\u001b[49m\n\u001b[1;32m   1743\u001b[0m \u001b[43m    \u001b[49m\u001b[43mstorage_options\u001b[49m\u001b[38;5;241;43m=\u001b[39;49m\u001b[38;5;28;43mself\u001b[39;49m\u001b[38;5;241;43m.\u001b[39;49m\u001b[43moptions\u001b[49m\u001b[38;5;241;43m.\u001b[39;49m\u001b[43mget\u001b[49m\u001b[43m(\u001b[49m\u001b[38;5;124;43m\"\u001b[39;49m\u001b[38;5;124;43mstorage_options\u001b[39;49m\u001b[38;5;124;43m\"\u001b[39;49m\u001b[43m,\u001b[49m\u001b[43m \u001b[49m\u001b[38;5;28;43;01mNone\u001b[39;49;00m\u001b[43m)\u001b[49m\u001b[43m,\u001b[49m\n\u001b[1;32m   1744\u001b[0m \u001b[43m\u001b[49m\u001b[43m)\u001b[49m\n\u001b[1;32m   1745\u001b[0m \u001b[38;5;28;01massert\u001b[39;00m \u001b[38;5;28mself\u001b[39m\u001b[38;5;241m.\u001b[39mhandles \u001b[38;5;129;01mis\u001b[39;00m \u001b[38;5;129;01mnot\u001b[39;00m \u001b[38;5;28;01mNone\u001b[39;00m\n\u001b[1;32m   1746\u001b[0m f \u001b[38;5;241m=\u001b[39m \u001b[38;5;28mself\u001b[39m\u001b[38;5;241m.\u001b[39mhandles\u001b[38;5;241m.\u001b[39mhandle\n",
      "File \u001b[0;32m/opt/conda/lib/python3.8/site-packages/pandas/io/common.py:856\u001b[0m, in \u001b[0;36mget_handle\u001b[0;34m(path_or_buf, mode, encoding, compression, memory_map, is_text, errors, storage_options)\u001b[0m\n\u001b[1;32m    851\u001b[0m \u001b[38;5;28;01melif\u001b[39;00m \u001b[38;5;28misinstance\u001b[39m(handle, \u001b[38;5;28mstr\u001b[39m):\n\u001b[1;32m    852\u001b[0m     \u001b[38;5;66;03m# Check whether the filename is to be opened in binary mode.\u001b[39;00m\n\u001b[1;32m    853\u001b[0m     \u001b[38;5;66;03m# Binary mode does not support 'encoding' and 'newline'.\u001b[39;00m\n\u001b[1;32m    854\u001b[0m     \u001b[38;5;28;01mif\u001b[39;00m ioargs\u001b[38;5;241m.\u001b[39mencoding \u001b[38;5;129;01mand\u001b[39;00m \u001b[38;5;124m\"\u001b[39m\u001b[38;5;124mb\u001b[39m\u001b[38;5;124m\"\u001b[39m \u001b[38;5;129;01mnot\u001b[39;00m \u001b[38;5;129;01min\u001b[39;00m ioargs\u001b[38;5;241m.\u001b[39mmode:\n\u001b[1;32m    855\u001b[0m         \u001b[38;5;66;03m# Encoding\u001b[39;00m\n\u001b[0;32m--> 856\u001b[0m         handle \u001b[38;5;241m=\u001b[39m \u001b[38;5;28;43mopen\u001b[39;49m\u001b[43m(\u001b[49m\n\u001b[1;32m    857\u001b[0m \u001b[43m            \u001b[49m\u001b[43mhandle\u001b[49m\u001b[43m,\u001b[49m\n\u001b[1;32m    858\u001b[0m \u001b[43m            \u001b[49m\u001b[43mioargs\u001b[49m\u001b[38;5;241;43m.\u001b[39;49m\u001b[43mmode\u001b[49m\u001b[43m,\u001b[49m\n\u001b[1;32m    859\u001b[0m \u001b[43m            \u001b[49m\u001b[43mencoding\u001b[49m\u001b[38;5;241;43m=\u001b[39;49m\u001b[43mioargs\u001b[49m\u001b[38;5;241;43m.\u001b[39;49m\u001b[43mencoding\u001b[49m\u001b[43m,\u001b[49m\n\u001b[1;32m    860\u001b[0m \u001b[43m            \u001b[49m\u001b[43merrors\u001b[49m\u001b[38;5;241;43m=\u001b[39;49m\u001b[43merrors\u001b[49m\u001b[43m,\u001b[49m\n\u001b[1;32m    861\u001b[0m \u001b[43m            \u001b[49m\u001b[43mnewline\u001b[49m\u001b[38;5;241;43m=\u001b[39;49m\u001b[38;5;124;43m\"\u001b[39;49m\u001b[38;5;124;43m\"\u001b[39;49m\u001b[43m,\u001b[49m\n\u001b[1;32m    862\u001b[0m \u001b[43m        \u001b[49m\u001b[43m)\u001b[49m\n\u001b[1;32m    863\u001b[0m     \u001b[38;5;28;01melse\u001b[39;00m:\n\u001b[1;32m    864\u001b[0m         \u001b[38;5;66;03m# Binary mode\u001b[39;00m\n\u001b[1;32m    865\u001b[0m         handle \u001b[38;5;241m=\u001b[39m \u001b[38;5;28mopen\u001b[39m(handle, ioargs\u001b[38;5;241m.\u001b[39mmode)\n",
      "\u001b[0;31mFileNotFoundError\u001b[0m: [Errno 2] No such file or directory: 'superstore_final_dataset.csv'"
     ]
    }
   ],
   "source": [
    "# Utilizing the data file \"superstore_final_dataset.csv\". For easy interpratation we will convert it into dataframe \n",
    "import pandas as pd\n",
    "import numpy as np\n",
    "df = pd.read_csv(\"superstore_final_dataset.csv\")\n",
    "df.head()\n",
    " "
   ]
  },
  {
   "cell_type": "code",
   "execution_count": 17,
   "id": "9a75b1c5-038b-4d95-a8fb-f792f54a8a1a",
   "metadata": {},
   "outputs": [
    {
     "data": {
      "text/plain": [
       "(9800, 18)"
      ]
     },
     "execution_count": 17,
     "metadata": {},
     "output_type": "execute_result"
    }
   ],
   "source": [
    "df.shape\n",
    "#it has 9800 rows and 18 columns of different data type"
   ]
  },
  {
   "cell_type": "code",
   "execution_count": 18,
   "id": "8cd3a7b7-a3fc-45ec-b7ce-99c637eb1c58",
   "metadata": {},
   "outputs": [
    {
     "name": "stdout",
     "output_type": "stream",
     "text": [
      "<class 'pandas.core.frame.DataFrame'>\n",
      "RangeIndex: 9800 entries, 0 to 9799\n",
      "Data columns (total 18 columns):\n",
      " #   Column         Non-Null Count  Dtype  \n",
      "---  ------         --------------  -----  \n",
      " 0   Row_ID         9800 non-null   int64  \n",
      " 1   Order_ID       9800 non-null   object \n",
      " 2   Order_Date     9800 non-null   object \n",
      " 3   Ship_Date      9800 non-null   object \n",
      " 4   Ship_Mode      9800 non-null   object \n",
      " 5   Customer_ID    9800 non-null   object \n",
      " 6   Customer_Name  9800 non-null   object \n",
      " 7   Segment        9800 non-null   object \n",
      " 8   Country        9800 non-null   object \n",
      " 9   City           9800 non-null   object \n",
      " 10  State          9800 non-null   object \n",
      " 11  Postal_Code    9789 non-null   float64\n",
      " 12  Region         9800 non-null   object \n",
      " 13  Product_ID     9800 non-null   object \n",
      " 14  Category       9800 non-null   object \n",
      " 15  Sub_Category   9800 non-null   object \n",
      " 16  Product_Name   9800 non-null   object \n",
      " 17  Sales          9800 non-null   float64\n",
      "dtypes: float64(2), int64(1), object(15)\n",
      "memory usage: 1.3+ MB\n"
     ]
    }
   ],
   "source": [
    "df.info()"
   ]
  },
  {
   "cell_type": "markdown",
   "id": "a6a744e7-966a-423f-997c-b8768101c4c2",
   "metadata": {},
   "source": [
    "##### So dataset ad 9800 entries with 18 different entries which are of different data type float64(2), int64(1), object(15)"
   ]
  },
  {
   "cell_type": "markdown",
   "id": "c50b37f0-5832-460e-80b5-eaf7f62b1b6a",
   "metadata": {},
   "source": [
    "### Step 1: Eliminating duplicate rows, except for the Row_ID column."
   ]
  },
  {
   "cell_type": "code",
   "execution_count": 19,
   "id": "fef15c9f-7960-4f73-84a5-562de6edc9f0",
   "metadata": {},
   "outputs": [
    {
     "data": {
      "text/plain": [
       "(9799, 18)"
      ]
     },
     "execution_count": 19,
     "metadata": {},
     "output_type": "execute_result"
    }
   ],
   "source": [
    "\n",
    "df.keys()\n",
    "colname=['Order_ID', 'Order_Date', 'Ship_Date', 'Ship_Mode',\n",
    "       'Customer_ID', 'Customer_Name', 'Segment', 'Country', 'City', 'State',\n",
    "       'Postal_Code', 'Region', 'Product_ID', 'Category', 'Sub_Category',\n",
    "       'Product_Name', 'Sales']\n",
    "df.drop_duplicates(subset=colname,inplace=True)\n",
    "df.shape\n"
   ]
  },
  {
   "cell_type": "markdown",
   "id": "9a06ac30-f20f-4f24-9398-82335ced543b",
   "metadata": {},
   "source": [
    "### Step 2: Removing rows that contain a few missing values.\n"
   ]
  },
  {
   "cell_type": "code",
   "execution_count": 20,
   "id": "b88e77df-167b-4a3a-b616-444b903ac841",
   "metadata": {},
   "outputs": [
    {
     "data": {
      "text/plain": [
       "Row_ID            0\n",
       "Order_ID          0\n",
       "Order_Date        0\n",
       "Ship_Date         0\n",
       "Ship_Mode         0\n",
       "Customer_ID       0\n",
       "Customer_Name     0\n",
       "Segment           0\n",
       "Country           0\n",
       "City              0\n",
       "State             0\n",
       "Postal_Code      11\n",
       "Region            0\n",
       "Product_ID        0\n",
       "Category          0\n",
       "Sub_Category      0\n",
       "Product_Name      0\n",
       "Sales             0\n",
       "dtype: int64"
      ]
     },
     "execution_count": 20,
     "metadata": {},
     "output_type": "execute_result"
    }
   ],
   "source": [
    "df.isnull().sum()"
   ]
  },
  {
   "cell_type": "markdown",
   "id": "b8c1662f-6665-41f6-b0eb-5acdd94d3b4b",
   "metadata": {},
   "source": [
    " Null Value : only postal_code has 11 null value "
   ]
  },
  {
   "cell_type": "code",
   "execution_count": 21,
   "id": "ea4c7ff8-9aff-461f-836c-46145cfd7a6b",
   "metadata": {},
   "outputs": [
    {
     "data": {
      "text/plain": [
       "(9788, 18)"
      ]
     },
     "execution_count": 21,
     "metadata": {},
     "output_type": "execute_result"
    }
   ],
   "source": [
    "nan_values = df[df.isna().any(axis=1)]\n",
    "#print(len(nan_values),nan_values) #= 11\n",
    "null_values=df[df.isnull().any(axis=1)]\n",
    "#print(len(null_values),null_values)\n",
    "\n",
    "df.dropna(axis = 0, how ='any',inplace=True)\n",
    "df.shape"
   ]
  },
  {
   "cell_type": "markdown",
   "id": "8af3ced7-b882-4ae7-8e57-14ce426b4d6b",
   "metadata": {},
   "source": [
    "### Step3 Remove irrelevant values from each column if any."
   ]
  },
  {
   "cell_type": "code",
   "execution_count": 22,
   "id": "1c4a5dde-00d4-42c5-b9a5-17863e22f6aa",
   "metadata": {},
   "outputs": [
    {
     "name": "stderr",
     "output_type": "stream",
     "text": [
      "/tmp/ipykernel_191/4045357920.py:3: UserWarning: Parsing dates in DD/MM/YYYY format when dayfirst=False (the default) was specified. This may lead to inconsistently parsed dates! Specify a format to ensure consistent parsing.\n",
      "  df['Order_Date'] = pd.to_datetime(df['Order_Date'])\n",
      "/tmp/ipykernel_191/4045357920.py:4: UserWarning: Parsing dates in DD/MM/YYYY format when dayfirst=False (the default) was specified. This may lead to inconsistently parsed dates! Specify a format to ensure consistent parsing.\n",
      "  df['Ship_Date'] = pd.to_datetime(df['Ship_Date'])\n"
     ]
    },
    {
     "data": {
      "text/plain": [
       "True     8104\n",
       "False    1684\n",
       "Name: order_ship, dtype: int64"
      ]
     },
     "execution_count": 22,
     "metadata": {},
     "output_type": "execute_result"
    }
   ],
   "source": [
    "#Validation of all values for a column( order date and ship date value must be in correct date format )\n",
    "#For each entry in dataset ship date >= order date\n",
    "df['Order_Date'] = pd.to_datetime(df['Order_Date'])\n",
    "df['Ship_Date'] = pd.to_datetime(df['Ship_Date'])\n",
    "#df[['OD', 'SD']] = df[['Order_Date', 'Ship_Date']].apply(pd.to_datetime)#,dayfirst=True)\n",
    "df['order_ship']= df['Ship_Date'] >= df['Order_Date']\n",
    "df['order_ship'].value_counts()\n",
    "#df.keys()\n",
    "#drop newly add columns\n",
    "#df.drop(columns=['OD', 'SD'],axis=1,inplace=True)"
   ]
  },
  {
   "cell_type": "code",
   "execution_count": 23,
   "id": "ae104f46-a4f2-4132-a32e-e8a1b20387da",
   "metadata": {},
   "outputs": [
    {
     "data": {
      "text/plain": [
       "<bound method NDFrame.tail of       Row_ID        Order_ID Order_Date  Ship_Date       Ship_Mode  \\\n",
       "0          1  CA-2017-152156 2017-08-11 2017-11-11    Second Class   \n",
       "1          2  CA-2017-152156 2017-08-11 2017-11-11    Second Class   \n",
       "2          3  CA-2017-138688 2017-12-06 2017-06-16    Second Class   \n",
       "3          4  US-2016-108966 2016-11-10 2016-10-18  Standard Class   \n",
       "4          5  US-2016-108966 2016-11-10 2016-10-18  Standard Class   \n",
       "...      ...             ...        ...        ...             ...   \n",
       "9795    9796  CA-2017-125920 2017-05-21 2017-05-28  Standard Class   \n",
       "9796    9797  CA-2016-128608 2016-12-01 2016-01-17  Standard Class   \n",
       "9797    9798  CA-2016-128608 2016-12-01 2016-01-17  Standard Class   \n",
       "9798    9799  CA-2016-128608 2016-12-01 2016-01-17  Standard Class   \n",
       "9799    9800  CA-2016-128608 2016-12-01 2016-01-17  Standard Class   \n",
       "\n",
       "     Customer_ID     Customer_Name    Segment        Country             City  \\\n",
       "0       CG-12520       Claire Gute   Consumer  United States        Henderson   \n",
       "1       CG-12520       Claire Gute   Consumer  United States        Henderson   \n",
       "2       DV-13045   Darrin Van Huff  Corporate  United States      Los Angeles   \n",
       "3       SO-20335     Sean O Donnel   Consumer  United States  Fort Lauderdale   \n",
       "4       SO-20335     Sean O Donnel   Consumer  United States  Fort Lauderdale   \n",
       "...          ...               ...        ...            ...              ...   \n",
       "9795    SH-19975     Sally Hughsby  Corporate  United States          Chicago   \n",
       "9796    CS-12490  Cindy Schnelling  Corporate  United States           Toledo   \n",
       "9797    CS-12490  Cindy Schnelling  Corporate  United States           Toledo   \n",
       "9798    CS-12490  Cindy Schnelling  Corporate  United States           Toledo   \n",
       "9799    CS-12490  Cindy Schnelling  Corporate  United States           Toledo   \n",
       "\n",
       "           State  Postal_Code   Region       Product_ID         Category  \\\n",
       "0       Kentucky      42420.0    South  FUR-BO-10001798        Furniture   \n",
       "1       Kentucky      42420.0    South  FUR-CH-10000454        Furniture   \n",
       "2     California      90036.0     West  OFF-LA-10000240  Office Supplies   \n",
       "3        Florida      33311.0    South  FUR-TA-10000577        Furniture   \n",
       "4        Florida      33311.0    South  OFF-ST-10000760  Office Supplies   \n",
       "...          ...          ...      ...              ...              ...   \n",
       "9795    Illinois      60610.0  Central  OFF-BI-10003429  Office Supplies   \n",
       "9796        Ohio      43615.0     East  OFF-AR-10001374  Office Supplies   \n",
       "9797        Ohio      43615.0     East  TEC-PH-10004977       Technology   \n",
       "9798        Ohio      43615.0     East  TEC-PH-10000912       Technology   \n",
       "9799        Ohio      43615.0     East  TEC-AC-10000487       Technology   \n",
       "\n",
       "     Sub_Category                                       Product_Name  \\\n",
       "0       Bookcases                  Bush Somerset Collection Bookcase   \n",
       "1          Chairs  Hon Deluxe Fabric Upholstered Stacking Chairs,...   \n",
       "2          Labels  Self-Adhesive Address Labels for Typewriters b...   \n",
       "3          Tables      Bretford CR4500 Series Slim Rectangular Table   \n",
       "4         Storage                      Eldon Fold N Roll Cart System   \n",
       "...           ...                                                ...   \n",
       "9795      Binders  Cardinal HOLDit! Binder Insert Strips,Extra St...   \n",
       "9796          Art           BIC Brite Liner Highlighters, Chisel Tip   \n",
       "9797       Phones                                        GE 30524EE4   \n",
       "9798       Phones           Anker 24W Portable Micro USB Car Charger   \n",
       "9799  Accessories                SanDisk Cruzer 4 GB USB Flash Drive   \n",
       "\n",
       "         Sales  order_ship  \n",
       "0     261.9600        True  \n",
       "1     731.9400        True  \n",
       "2      14.6200       False  \n",
       "3     957.5775       False  \n",
       "4      22.3680       False  \n",
       "...        ...         ...  \n",
       "9795    3.7980        True  \n",
       "9796   10.3680       False  \n",
       "9797  235.1880       False  \n",
       "9798   26.3760       False  \n",
       "9799   10.3840       False  \n",
       "\n",
       "[9788 rows x 19 columns]>"
      ]
     },
     "execution_count": 23,
     "metadata": {},
     "output_type": "execute_result"
    }
   ],
   "source": [
    "df.tail"
   ]
  },
  {
   "cell_type": "code",
   "execution_count": 24,
   "id": "008e3398-7740-4b0d-a222-24d5e36beb3f",
   "metadata": {},
   "outputs": [
    {
     "data": {
      "text/plain": [
       "(8104, 19)"
      ]
     },
     "execution_count": 24,
     "metadata": {},
     "output_type": "execute_result"
    }
   ],
   "source": [
    "df.keys()\n",
    "#drop newly add columns\n",
    "df.drop(df[df['order_ship']== False].index, inplace=True)\n",
    "#df.drop(columns=['OD', 'SD','order_ship'],axis=1,inplace=True)\n",
    "df.shape"
   ]
  },
  {
   "cell_type": "markdown",
   "id": "406b6b49-4433-4e7d-88ce-414f421140b7",
   "metadata": {},
   "source": [
    "After removing the values which are 1684 due to irrelevant values we need reset-index off the data fframe and remove the 3 added column."
   ]
  },
  {
   "cell_type": "code",
   "execution_count": 26,
   "id": "9ceac9b2-6007-4cfb-ae3c-26b86cdc5e4c",
   "metadata": {},
   "outputs": [],
   "source": [
    "df.drop(columns=['order_ship'],axis=1,inplace=True)\n"
   ]
  },
  {
   "cell_type": "code",
   "execution_count": 27,
   "id": "f8e6f68e-7612-45ae-932e-bb13107bcffd",
   "metadata": {},
   "outputs": [],
   "source": [
    "#df.reset_index()"
   ]
  },
  {
   "cell_type": "code",
   "execution_count": 28,
   "id": "7d7fae6a-e2b7-4abe-93c0-04a5186be67e",
   "metadata": {
    "tags": []
   },
   "outputs": [
    {
     "data": {
      "text/plain": [
       "Row_ID                    int64\n",
       "Order_ID                 object\n",
       "Order_Date       datetime64[ns]\n",
       "Ship_Date        datetime64[ns]\n",
       "Ship_Mode                object\n",
       "Customer_ID              object\n",
       "Customer_Name            object\n",
       "Segment                  object\n",
       "Country                  object\n",
       "City                     object\n",
       "State                    object\n",
       "Postal_Code             float64\n",
       "Region                   object\n",
       "Product_ID               object\n",
       "Category                 object\n",
       "Sub_Category             object\n",
       "Product_Name             object\n",
       "Sales                   float64\n",
       "dtype: object"
      ]
     },
     "execution_count": 28,
     "metadata": {},
     "output_type": "execute_result"
    }
   ],
   "source": [
    "df.dtypes\n"
   ]
  },
  {
   "cell_type": "markdown",
   "id": "1e33ebde-8c1e-45ab-9cd3-0c4f99539b51",
   "metadata": {},
   "source": [
    "### Step4 :Export the cleaned dataset as a .csv file: prefer UTF-8 encoding\n"
   ]
  },
  {
   "cell_type": "code",
   "execution_count": 30,
   "id": "e959a4c7-a96e-49ea-a035-b2f65f5cdb09",
   "metadata": {},
   "outputs": [],
   "source": [
    "\n",
    "df.to_csv('superstore_final.csv', encoding='utf-8', index=False)"
   ]
  },
  {
   "cell_type": "raw",
   "id": "0a1318b2-70f4-407c-811c-1e846579a02e",
   "metadata": {},
   "source": [
    "\n",
    "#Convert the pre-processed dataset into an SQL file and import it \n",
    "to table named \"superstore\" using credentials provided in \"DataBase Info\" Tab. \n"
   ]
  },
  {
   "cell_type": "code",
   "execution_count": 15,
   "id": "f7389834-e140-45fd-8282-934272fbb2c3",
   "metadata": {},
   "outputs": [
    {
     "name": "stdout",
     "output_type": "stream",
     "text": [
      "9779,CA-2015-169019,2015-07-26,2015-07-30,Standard Class,LF-17185,Luke Foster,Consumer,United States,San Antonio,Texas,78207.0,Central,OFF-BI-10001679,Office Supplies,Binders,GBC Instant Index System for Binding Systems,8.88,True\n",
      "9780,CA-2015-169019,2015-07-26,2015-07-30,Standard Class,LF-17185,Luke Foster,Consumer,United States,San Antonio,Texas,78207.0,Central,OFF-AP-10003281,Office Supplies,Appliances,Acco 6 Outlet Guardian Standard Surge Suppressor,4.836,True\n",
      "9781,CA-2017-153178,2017-09-14,2017-09-18,Standard Class,CL-12565,Clay Ludtke,Consumer,United States,Long Beach,New York,11561.0,East,TEC-PH-10001944,Technology,Phones,Wi-Ex zBoost YX540 Cellular Phone Signal Booster,437.85,True\n",
      "9782,CA-2017-153178,2017-09-14,2017-09-18,Standard Class,CL-12565,Clay Ludtke,Consumer,United States,Long Beach,New York,11561.0,East,OFF-BI-10004390,Office Supplies,Binders,GBC DocuBind 200 Manual Binding Machine,673.568,True\n",
      "9787,US-2015-114377,2015-05-11,2015-05-11,Same Day,BG-11035,Barry Gonzalez,Consumer,United States,Hampton,Virginia,23666.0,South,FUR-CH-10004754,Furniture,Chairs,\"Global Stack Chair with Arms, Black\",149.9,True\n",
      "9792,CA-2015-127166,2015-05-21,2015-05-23,Second Class,KH-16360,Katherine Hughes,Consumer,United States,Houston,Texas,77070.0,Central,OFF-EN-10003134,Office Supplies,Envelopes,Staple envelope,56.064,True\n",
      "9793,CA-2015-127166,2015-05-21,2015-05-23,Second Class,KH-16360,Katherine Hughes,Consumer,United States,Houston,Texas,77070.0,Central,FUR-CH-10003396,Furniture,Chairs,Global Deluxe Steno Chair,107.772,True\n",
      "9794,CA-2015-127166,2015-05-21,2015-05-23,Second Class,KH-16360,Katherine Hughes,Consumer,United States,Houston,Texas,77070.0,Central,OFF-PA-10001560,Office Supplies,Paper,\"Adams Telephone Message Books, 5 1/4” x 11”\",4.832,True\n",
      "9795,CA-2015-127166,2015-05-21,2015-05-23,Second Class,KH-16360,Katherine Hughes,Consumer,United States,Houston,Texas,77070.0,Central,OFF-BI-10000977,Office Supplies,Binders,Ibico Plastic Spiral Binding Combs,18.24,True\n",
      "9796,CA-2017-125920,2017-05-21,2017-05-28,Standard Class,SH-19975,Sally Hughsby,Corporate,United States,Chicago,Illinois,60610.0,Central,OFF-BI-10003429,Office Supplies,Binders,\"Cardinal HOLDit! Binder Insert Strips,Extra Strips\",3.798,True\n"
     ]
    }
   ],
   "source": [
    "!tail superstore_final.csv"
   ]
  },
  {
   "cell_type": "code",
   "execution_count": null,
   "id": "a972339c-13c5-438f-b8ea-3fb63d27728f",
   "metadata": {},
   "outputs": [],
   "source": [
    "import pandas as pd\n",
    "import sqlite3\n"
   ]
  },
  {
   "cell_type": "code",
   "execution_count": null,
   "id": "4f065226-d330-4030-ba93-65d2c3e3e8d9",
   "metadata": {},
   "outputs": [],
   "source": [
    "df = pd.read_csv('superstore.csv', encoding='utf-8')"
   ]
  },
  {
   "cell_type": "code",
   "execution_count": null,
   "id": "323f1aad-3f4e-48d4-b47e-6ce8dfc935c1",
   "metadata": {},
   "outputs": [],
   "source": [
    "df"
   ]
  },
  {
   "cell_type": "code",
   "execution_count": null,
   "id": "213778b3-e8cc-4ea9-9486-4f55372111cf",
   "metadata": {},
   "outputs": [],
   "source": [
    "conn = sqlite3.connect(\"superstore.sql\")"
   ]
  },
  {
   "cell_type": "code",
   "execution_count": null,
   "id": "52874d08-c06a-4ef8-b624-75e1e500fee9",
   "metadata": {},
   "outputs": [],
   "source": [
    "df.to_sql('Some_Table_Name', onn)"
   ]
  },
  {
   "cell_type": "code",
   "execution_count": null,
   "id": "619a163a-d19f-4f39-bf1a-63ca12e5ece0",
   "metadata": {},
   "outputs": [],
   "source": [
    "df.to_sql('superstore', onn)"
   ]
  },
  {
   "cell_type": "code",
   "execution_count": null,
   "id": "0a7d1853-1bae-4ab5-9f3d-6582be44a865",
   "metadata": {},
   "outputs": [],
   "source": [
    "sql_string = 'SELECT * FROM superstore'"
   ]
  },
  {
   "cell_type": "markdown",
   "id": "29b8d885-f5af-4e2d-9d5d-38c14759e854",
   "metadata": {},
   "source": [
    "CSV to sql\n",
    "\n",
    "convert the date time to datetime format\n",
    "\n",
    "## 1. Write an SQL query to solve the given problem statement.What percentage of total orders were shipped on the same date?\n"
   ]
  },
  {
   "cell_type": "code",
   "execution_count": 172,
   "id": "5c214d37-e4f6-469e-91d8-c125d98faf05",
   "metadata": {},
   "outputs": [
    {
     "data": {
      "text/plain": [
       "False    93.657453\n",
       "True      6.342547\n",
       "Name: same_day, dtype: float64"
      ]
     },
     "execution_count": 172,
     "metadata": {},
     "output_type": "execute_result"
    }
   ],
   "source": [
    "df['same_day'] =df['Order_Date']==df['Ship_Date']\n",
    "df['same_day'].value_counts()\n",
    "df['same_day'].value_counts()*100/df.shape[0]"
   ]
  },
  {
   "cell_type": "raw",
   "id": "a708de53-c5c7-4d58-baf1-3a4e160e7ad9",
   "metadata": {},
   "source": [
    "#SQL \n",
    "SELECT (COUNT(*) * 100 / (SELECT COUNT(*) FROM superstore)) AS Same_Day_Shipping_Percentage\n",
    "FROM superstore\n",
    "WHERE Order_Date = Ship_Date ;"
   ]
  },
  {
   "cell_type": "markdown",
   "id": "442cd2a6-da18-4c6b-9c7c-bf897a13782e",
   "metadata": {},
   "source": [
    "## 2. Write an SQL query to solve the given problem statement. Name top 3 customers with highest total value of orders.\n"
   ]
  },
  {
   "cell_type": "code",
   "execution_count": 173,
   "id": "37e15031-1c10-4d99-93cb-abec894a0ade",
   "metadata": {},
   "outputs": [],
   "source": [
    "#df['Customer_Name'].value_counts()[:3]"
   ]
  },
  {
   "cell_type": "code",
   "execution_count": 174,
   "id": "5bde316e-b581-463f-b539-ac0b709fa2a5",
   "metadata": {},
   "outputs": [
    {
     "data": {
      "text/plain": [
       "Customer_Name\n",
       "Sean Miller     24516.600\n",
       "Tamara Chand    19044.906\n",
       "Raymond Buch    15056.854\n",
       "Name: Sales, dtype: float64"
      ]
     },
     "execution_count": 174,
     "metadata": {},
     "output_type": "execute_result"
    }
   ],
   "source": [
    "df.groupby(['Customer_Name'])['Sales'].sum().sort_values(ascending=False)[:3]#.index.tolist()"
   ]
  },
  {
   "cell_type": "raw",
   "id": "a7551160-bcf5-4ed6-93d8-3487cd6f71ef",
   "metadata": {},
   "source": [
    "#SQL\n",
    "SELECT Customer_Name, SUM(sales) AS TotalOrderValue\n",
    "FROM superstore\n",
    "GROUP BY Customer_Name\n",
    "ORDER BY TotalOrderValue DESC\n",
    "LIMIT 3;"
   ]
  },
  {
   "cell_type": "markdown",
   "id": "e0f36211-a6ec-4d0f-9471-dd88f80b3e74",
   "metadata": {},
   "source": [
    "## 3. Write an SQL query to solve the given problem statement. Find the top 5 items with the highest average sales per day.\n"
   ]
  },
  {
   "cell_type": "code",
   "execution_count": 175,
   "id": "260d876c-7bc5-4494-9ad5-7eced755b5ca",
   "metadata": {},
   "outputs": [],
   "source": [
    "#Product_Name , sales, date\n",
    "#df.groupby(['Product_ID','Order_Date'])['Sales'].mean()\n",
    "#df.groupby(['Product_ID','Order_Date']).sum().groupby('Product_ID')['Sales'].mean().sort_values(ascending=False)[:5]"
   ]
  },
  {
   "cell_type": "code",
   "execution_count": 176,
   "id": "7b93fcbb-f7bb-40ae-8b10-d5c1abb67b93",
   "metadata": {},
   "outputs": [
    {
     "data": {
      "text/plain": [
       "Product_ID\n",
       "TEC-MA-10002412    22638.4800\n",
       "TEC-CO-10004722    12319.9648\n",
       "TEC-MA-10004125     7999.9800\n",
       "TEC-MA-10001047     7149.9450\n",
       "TEC-MA-10001127     6124.9650\n",
       "Name: Sales, dtype: float64"
      ]
     },
     "execution_count": 176,
     "metadata": {},
     "output_type": "execute_result"
    }
   ],
   "source": [
    "df.groupby('Product_ID')['Sales'].mean().sort_values(ascending=False)[:5]"
   ]
  },
  {
   "cell_type": "markdown",
   "id": "99e5980c-3c69-48df-beb1-1f3519983558",
   "metadata": {},
   "source": [
    "#sql\n",
    "SELECT Product_ID, AVG(sales) AS Average_sales\n",
    "FROM superstore\n",
    "GROUP BY Product_ID\n",
    "ORDER BY  Average_sales DESC\n",
    "LIMIT 5;\n"
   ]
  },
  {
   "cell_type": "markdown",
   "id": "433c3ab4-cae0-443b-a500-eea4b89cf32d",
   "metadata": {},
   "source": [
    "## 4. Write a query to find the average order value for each customer, and rank the customers by their average order value."
   ]
  },
  {
   "cell_type": "code",
   "execution_count": 177,
   "id": "6133663b-35e1-468e-add5-46292b5e3c06",
   "metadata": {},
   "outputs": [
    {
     "data": {
      "text/plain": [
       "Customer_Name\n",
       "Tom Ashbrook         2301.295000\n",
       "Mitch Willingham     1751.292000\n",
       "Sean Miller          1751.185714\n",
       "Tamara Chand         1731.355091\n",
       "Grant Thornton       1558.535333\n",
       "                        ...     \n",
       "Ritsa Hightower         8.226000\n",
       "Roy Skaria              7.442667\n",
       "Michelle Lonsdale       6.370000\n",
       "Lela Donovan            5.304000\n",
       "Thais Sissman           2.025000\n",
       "Name: Sales, Length: 791, dtype: float64"
      ]
     },
     "execution_count": 177,
     "metadata": {},
     "output_type": "execute_result"
    }
   ],
   "source": [
    "df.groupby('Customer_Name')['Sales'].mean().sort_values(ascending=False)"
   ]
  },
  {
   "cell_type": "raw",
   "id": "d751ea22-09d5-4378-a06a-9efa8eaaedf4",
   "metadata": {},
   "source": [
    "#sql\n",
    "SELECT Customer_Name, AVG(sales) AS Average_order\n",
    "FROM superstore\n",
    "GROUP BY Customer_Name\n",
    "ORDER BY  Average_order DESC"
   ]
  },
  {
   "cell_type": "markdown",
   "id": "81be7042-3e0e-4ae4-9ac4-369d8076f4ab",
   "metadata": {},
   "source": [
    "## 5. Write a query to find Give the name of customers who ordered highest and lowest orders from each city."
   ]
  },
  {
   "cell_type": "code",
   "execution_count": 178,
   "id": "a9a38d9d-4c49-41f9-947d-2fb7feabacb1",
   "metadata": {},
   "outputs": [
    {
     "data": {
      "text/plain": [
       "City\n",
       "Aberdeen         25.500\n",
       "Abilene           1.392\n",
       "Akron           665.408\n",
       "Albuquerque     288.240\n",
       "Alexandria     4164.050\n",
       "                 ...   \n",
       "Woonsocket       52.960\n",
       "Yonkers        4899.930\n",
       "York            422.058\n",
       "Yucaipa          50.800\n",
       "Yuma            599.985\n",
       "Name: Sales, Length: 506, dtype: float64"
      ]
     },
     "execution_count": 178,
     "metadata": {},
     "output_type": "execute_result"
    }
   ],
   "source": [
    "df.groupby(['City'])['Sales'].max()"
   ]
  },
  {
   "cell_type": "code",
   "execution_count": 179,
   "id": "85614ae9-bea3-4b16-8d88-0942994de76e",
   "metadata": {},
   "outputs": [
    {
     "data": {
      "text/html": [
       "<div>\n",
       "<style scoped>\n",
       "    .dataframe tbody tr th:only-of-type {\n",
       "        vertical-align: middle;\n",
       "    }\n",
       "\n",
       "    .dataframe tbody tr th {\n",
       "        vertical-align: top;\n",
       "    }\n",
       "\n",
       "    .dataframe thead th {\n",
       "        text-align: right;\n",
       "    }\n",
       "</style>\n",
       "<table border=\"1\" class=\"dataframe\">\n",
       "  <thead>\n",
       "    <tr style=\"text-align: right;\">\n",
       "      <th></th>\n",
       "      <th>City</th>\n",
       "      <th>Sales</th>\n",
       "      <th>Customer_Name</th>\n",
       "    </tr>\n",
       "  </thead>\n",
       "  <tbody>\n",
       "    <tr>\n",
       "      <th>0</th>\n",
       "      <td>Henderson</td>\n",
       "      <td>261.960</td>\n",
       "      <td>Claire Gute</td>\n",
       "    </tr>\n",
       "    <tr>\n",
       "      <th>1</th>\n",
       "      <td>Henderson</td>\n",
       "      <td>731.940</td>\n",
       "      <td>Claire Gute</td>\n",
       "    </tr>\n",
       "    <tr>\n",
       "      <th>12</th>\n",
       "      <td>Concord</td>\n",
       "      <td>15.552</td>\n",
       "      <td>Andrew Allen</td>\n",
       "    </tr>\n",
       "    <tr>\n",
       "      <th>13</th>\n",
       "      <td>Seattle</td>\n",
       "      <td>407.976</td>\n",
       "      <td>Irene Maddox</td>\n",
       "    </tr>\n",
       "    <tr>\n",
       "      <th>14</th>\n",
       "      <td>Fort Worth</td>\n",
       "      <td>68.810</td>\n",
       "      <td>Harold Pawlan</td>\n",
       "    </tr>\n",
       "    <tr>\n",
       "      <th>...</th>\n",
       "      <td>...</td>\n",
       "      <td>...</td>\n",
       "      <td>...</td>\n",
       "    </tr>\n",
       "    <tr>\n",
       "      <th>9791</th>\n",
       "      <td>Houston</td>\n",
       "      <td>56.064</td>\n",
       "      <td>Katherine Hughes</td>\n",
       "    </tr>\n",
       "    <tr>\n",
       "      <th>9792</th>\n",
       "      <td>Houston</td>\n",
       "      <td>107.772</td>\n",
       "      <td>Katherine Hughes</td>\n",
       "    </tr>\n",
       "    <tr>\n",
       "      <th>9793</th>\n",
       "      <td>Houston</td>\n",
       "      <td>4.832</td>\n",
       "      <td>Katherine Hughes</td>\n",
       "    </tr>\n",
       "    <tr>\n",
       "      <th>9794</th>\n",
       "      <td>Houston</td>\n",
       "      <td>18.240</td>\n",
       "      <td>Katherine Hughes</td>\n",
       "    </tr>\n",
       "    <tr>\n",
       "      <th>9795</th>\n",
       "      <td>Chicago</td>\n",
       "      <td>3.798</td>\n",
       "      <td>Sally Hughsby</td>\n",
       "    </tr>\n",
       "  </tbody>\n",
       "</table>\n",
       "<p>8104 rows × 3 columns</p>\n",
       "</div>"
      ],
      "text/plain": [
       "            City    Sales     Customer_Name\n",
       "0      Henderson  261.960       Claire Gute\n",
       "1      Henderson  731.940       Claire Gute\n",
       "12       Concord   15.552      Andrew Allen\n",
       "13       Seattle  407.976      Irene Maddox\n",
       "14    Fort Worth   68.810     Harold Pawlan\n",
       "...          ...      ...               ...\n",
       "9791     Houston   56.064  Katherine Hughes\n",
       "9792     Houston  107.772  Katherine Hughes\n",
       "9793     Houston    4.832  Katherine Hughes\n",
       "9794     Houston   18.240  Katherine Hughes\n",
       "9795     Chicago    3.798     Sally Hughsby\n",
       "\n",
       "[8104 rows x 3 columns]"
      ]
     },
     "execution_count": 179,
     "metadata": {},
     "output_type": "execute_result"
    }
   ],
   "source": [
    "df_new = df[['City', 'Sales','Customer_Name']]\n",
    "df_new"
   ]
  },
  {
   "cell_type": "code",
   "execution_count": 180,
   "id": "42385d23-20c0-41bd-8b1f-6758306288be",
   "metadata": {},
   "outputs": [],
   "source": [
    "#City, Customer_Name, sales\n",
    "idmax = df_new.groupby(['City'])['Sales'].idxmax()"
   ]
  },
  {
   "cell_type": "code",
   "execution_count": 181,
   "id": "71ef2e00-b292-40d6-b262-a56b76a993da",
   "metadata": {},
   "outputs": [],
   "source": [
    "idmin=df_new.groupby(['City'])['Sales'].idxmin()"
   ]
  },
  {
   "cell_type": "code",
   "execution_count": 182,
   "id": "d6c6e2ac-f8df-4e49-8c21-25136a2930ff",
   "metadata": {},
   "outputs": [
    {
     "data": {
      "text/html": [
       "<div>\n",
       "<style scoped>\n",
       "    .dataframe tbody tr th:only-of-type {\n",
       "        vertical-align: middle;\n",
       "    }\n",
       "\n",
       "    .dataframe tbody tr th {\n",
       "        vertical-align: top;\n",
       "    }\n",
       "\n",
       "    .dataframe thead th {\n",
       "        text-align: right;\n",
       "    }\n",
       "</style>\n",
       "<table border=\"1\" class=\"dataframe\">\n",
       "  <thead>\n",
       "    <tr style=\"text-align: right;\">\n",
       "      <th></th>\n",
       "      <th>City</th>\n",
       "      <th>Sales</th>\n",
       "      <th>Customer_Name</th>\n",
       "    </tr>\n",
       "  </thead>\n",
       "  <tbody>\n",
       "    <tr>\n",
       "      <th>9260</th>\n",
       "      <td>Aberdeen</td>\n",
       "      <td>25.500</td>\n",
       "      <td>Jeremy Lonsdale</td>\n",
       "    </tr>\n",
       "    <tr>\n",
       "      <th>6989</th>\n",
       "      <td>Abilene</td>\n",
       "      <td>1.392</td>\n",
       "      <td>Dennis Kane</td>\n",
       "    </tr>\n",
       "    <tr>\n",
       "      <th>4323</th>\n",
       "      <td>Akron</td>\n",
       "      <td>2.286</td>\n",
       "      <td>Karl Braun</td>\n",
       "    </tr>\n",
       "    <tr>\n",
       "      <th>8098</th>\n",
       "      <td>Albuquerque</td>\n",
       "      <td>4.280</td>\n",
       "      <td>Susan Vittorini</td>\n",
       "    </tr>\n",
       "    <tr>\n",
       "      <th>2583</th>\n",
       "      <td>Alexandria</td>\n",
       "      <td>12.420</td>\n",
       "      <td>Shirley Daniels</td>\n",
       "    </tr>\n",
       "    <tr>\n",
       "      <th>...</th>\n",
       "      <td>...</td>\n",
       "      <td>...</td>\n",
       "      <td>...</td>\n",
       "    </tr>\n",
       "    <tr>\n",
       "      <th>5092</th>\n",
       "      <td>Woonsocket</td>\n",
       "      <td>51.450</td>\n",
       "      <td>Kristen Hastings</td>\n",
       "    </tr>\n",
       "    <tr>\n",
       "      <th>3862</th>\n",
       "      <td>Yonkers</td>\n",
       "      <td>10.896</td>\n",
       "      <td>Nathan Cano</td>\n",
       "    </tr>\n",
       "    <tr>\n",
       "      <th>2146</th>\n",
       "      <td>York</td>\n",
       "      <td>38.088</td>\n",
       "      <td>Theresa Swint</td>\n",
       "    </tr>\n",
       "    <tr>\n",
       "      <th>3347</th>\n",
       "      <td>Yucaipa</td>\n",
       "      <td>50.800</td>\n",
       "      <td>Odella Nelson</td>\n",
       "    </tr>\n",
       "    <tr>\n",
       "      <th>4822</th>\n",
       "      <td>Yuma</td>\n",
       "      <td>44.856</td>\n",
       "      <td>Nick Zandusky</td>\n",
       "    </tr>\n",
       "  </tbody>\n",
       "</table>\n",
       "<p>506 rows × 3 columns</p>\n",
       "</div>"
      ],
      "text/plain": [
       "             City   Sales     Customer_Name\n",
       "9260     Aberdeen  25.500   Jeremy Lonsdale\n",
       "6989      Abilene   1.392       Dennis Kane\n",
       "4323        Akron   2.286        Karl Braun\n",
       "8098  Albuquerque   4.280   Susan Vittorini\n",
       "2583   Alexandria  12.420   Shirley Daniels\n",
       "...           ...     ...               ...\n",
       "5092   Woonsocket  51.450  Kristen Hastings\n",
       "3862      Yonkers  10.896       Nathan Cano\n",
       "2146         York  38.088     Theresa Swint\n",
       "3347      Yucaipa  50.800     Odella Nelson\n",
       "4822         Yuma  44.856     Nick Zandusky\n",
       "\n",
       "[506 rows x 3 columns]"
      ]
     },
     "execution_count": 182,
     "metadata": {},
     "output_type": "execute_result"
    }
   ],
   "source": [
    "df_new.loc[idmax]\n",
    "df_new.loc[idmin]\n",
    "#result = pd.concat([df_new.loc[idmax],df_new.loc[idmin] ], axis=1, join=\"outr\")"
   ]
  },
  {
   "cell_type": "code",
   "execution_count": 183,
   "id": "cd9d935d-4b77-42fb-89d8-2e463070b311",
   "metadata": {},
   "outputs": [
    {
     "data": {
      "text/html": [
       "<div>\n",
       "<style scoped>\n",
       "    .dataframe tbody tr th:only-of-type {\n",
       "        vertical-align: middle;\n",
       "    }\n",
       "\n",
       "    .dataframe tbody tr th {\n",
       "        vertical-align: top;\n",
       "    }\n",
       "\n",
       "    .dataframe thead th {\n",
       "        text-align: right;\n",
       "    }\n",
       "</style>\n",
       "<table border=\"1\" class=\"dataframe\">\n",
       "  <thead>\n",
       "    <tr style=\"text-align: right;\">\n",
       "      <th></th>\n",
       "      <th>City</th>\n",
       "      <th>Sales</th>\n",
       "      <th>Customer_Name</th>\n",
       "    </tr>\n",
       "  </thead>\n",
       "  <tbody>\n",
       "    <tr>\n",
       "      <th>9260</th>\n",
       "      <td>Aberdeen</td>\n",
       "      <td>25.500</td>\n",
       "      <td>Jeremy Lonsdale</td>\n",
       "    </tr>\n",
       "    <tr>\n",
       "      <th>6989</th>\n",
       "      <td>Abilene</td>\n",
       "      <td>1.392</td>\n",
       "      <td>Dennis Kane</td>\n",
       "    </tr>\n",
       "    <tr>\n",
       "      <th>454</th>\n",
       "      <td>Akron</td>\n",
       "      <td>665.408</td>\n",
       "      <td>Ed Braxton</td>\n",
       "    </tr>\n",
       "    <tr>\n",
       "      <th>3068</th>\n",
       "      <td>Albuquerque</td>\n",
       "      <td>288.240</td>\n",
       "      <td>Benjamin Farhat</td>\n",
       "    </tr>\n",
       "    <tr>\n",
       "      <th>3280</th>\n",
       "      <td>Alexandria</td>\n",
       "      <td>4164.050</td>\n",
       "      <td>Greg Maxwell</td>\n",
       "    </tr>\n",
       "    <tr>\n",
       "      <th>...</th>\n",
       "      <td>...</td>\n",
       "      <td>...</td>\n",
       "      <td>...</td>\n",
       "    </tr>\n",
       "    <tr>\n",
       "      <th>3989</th>\n",
       "      <td>Woonsocket</td>\n",
       "      <td>52.960</td>\n",
       "      <td>Andy Reiter</td>\n",
       "    </tr>\n",
       "    <tr>\n",
       "      <th>1085</th>\n",
       "      <td>Yonkers</td>\n",
       "      <td>4899.930</td>\n",
       "      <td>Karen Daniels</td>\n",
       "    </tr>\n",
       "    <tr>\n",
       "      <th>2145</th>\n",
       "      <td>York</td>\n",
       "      <td>422.058</td>\n",
       "      <td>Theresa Swint</td>\n",
       "    </tr>\n",
       "    <tr>\n",
       "      <th>3347</th>\n",
       "      <td>Yucaipa</td>\n",
       "      <td>50.800</td>\n",
       "      <td>Odella Nelson</td>\n",
       "    </tr>\n",
       "    <tr>\n",
       "      <th>7281</th>\n",
       "      <td>Yuma</td>\n",
       "      <td>599.985</td>\n",
       "      <td>Gary Hansen</td>\n",
       "    </tr>\n",
       "  </tbody>\n",
       "</table>\n",
       "<p>506 rows × 3 columns</p>\n",
       "</div>"
      ],
      "text/plain": [
       "             City     Sales    Customer_Name\n",
       "9260     Aberdeen    25.500  Jeremy Lonsdale\n",
       "6989      Abilene     1.392      Dennis Kane\n",
       "454         Akron   665.408       Ed Braxton\n",
       "3068  Albuquerque   288.240  Benjamin Farhat\n",
       "3280   Alexandria  4164.050     Greg Maxwell\n",
       "...           ...       ...              ...\n",
       "3989   Woonsocket    52.960      Andy Reiter\n",
       "1085      Yonkers  4899.930    Karen Daniels\n",
       "2145         York   422.058    Theresa Swint\n",
       "3347      Yucaipa    50.800    Odella Nelson\n",
       "7281         Yuma   599.985      Gary Hansen\n",
       "\n",
       "[506 rows x 3 columns]"
      ]
     },
     "execution_count": 183,
     "metadata": {},
     "output_type": "execute_result"
    }
   ],
   "source": [
    "df_new.loc[idmax]"
   ]
  },
  {
   "cell_type": "markdown",
   "id": "c9211123-fefa-47bb-89a9-2711864ea9f7",
   "metadata": {},
   "source": [
    " ## 6. Write an SQL query to solve What is the most demanded sub-category in the west region?\n",
    " \n"
   ]
  },
  {
   "cell_type": "code",
   "execution_count": 184,
   "id": "9e9a37ce-3275-4005-81fe-9ca626936490",
   "metadata": {},
   "outputs": [
    {
     "data": {
      "text/plain": [
       "Sub_Category\n",
       "Chairs    86795.76\n",
       "Name: Sales, dtype: float64"
      ]
     },
     "execution_count": 184,
     "metadata": {},
     "output_type": "execute_result"
    }
   ],
   "source": [
    "df[df['Region']=='West'].groupby(['Sub_Category'])['Sales'].sum().sort_values(ascending=False)[:1]"
   ]
  },
  {
   "cell_type": "raw",
   "id": "bee4b88e-4bcc-4d1b-a9f9-fe154681326e",
   "metadata": {},
   "source": [
    "SELECT Sub_Category, SUM(Sales)  AS demanded\n",
    "FROM superstore\n",
    "WHERE Region = 'West'\n",
    "GROUP BY Sub_Category\n",
    "ORDER BY  demanded DESC\n",
    "LIMIT 1;\n",
    "\n"
   ]
  },
  {
   "cell_type": "markdown",
   "id": "b8fad664-7445-4958-b606-ceaa7637ae0b",
   "metadata": {},
   "source": [
    "## 7. Write an SQL query to solve Which order has the highest number of items? And which order has the highest cumulative value?\n"
   ]
  },
  {
   "cell_type": "code",
   "execution_count": 185,
   "id": "a6771c3b-e44f-4f1c-bcd2-d9ce62c5be87",
   "metadata": {},
   "outputs": [
    {
     "data": {
      "text/plain": [
       "Order_ID\n",
       "CA-2018-100111    14\n",
       "Name: Sub_Category, dtype: int64"
      ]
     },
     "execution_count": 185,
     "metadata": {},
     "output_type": "execute_result"
    }
   ],
   "source": [
    "df.groupby(['Order_ID'])['Sub_Category'].count().sort_values(ascending=False)[:1]"
   ]
  },
  {
   "cell_type": "raw",
   "id": "78c04192-0933-4103-be97-e70ac9b11fa6",
   "metadata": {},
   "source": [
    "SELECT Order_ID, COUNT(Sub_Category) AS highest_number\n",
    "FROM superstore\n",
    "GROUP BY Order_ID\n",
    "ORDER BY  highest_number DESC\n",
    "LIMIT 1;"
   ]
  },
  {
   "cell_type": "markdown",
   "id": "08e28886-0cd5-44e7-a6b9-05069ede3aa0",
   "metadata": {},
   "source": [
    "## 8. Write an SQL query to tell Which order has the highest cumulative value?\n"
   ]
  },
  {
   "cell_type": "code",
   "execution_count": 186,
   "id": "ea3402f8-c0bc-420a-b2aa-d0b5fb910ec6",
   "metadata": {},
   "outputs": [
    {
     "data": {
      "text/plain": [
       "Order_ID\n",
       "CA-2015-145317    23661.228\n",
       "Name: Sales, dtype: float64"
      ]
     },
     "execution_count": 186,
     "metadata": {},
     "output_type": "execute_result"
    }
   ],
   "source": [
    "df.groupby(['Order_ID'])['Sales'].sum().sort_values(ascending=False)[:1]"
   ]
  },
  {
   "cell_type": "raw",
   "id": "0fbbbfae-b3f8-45ea-8ad9-f6d8dbc567e7",
   "metadata": {},
   "source": [
    "SELECT Order_ID, SUM(Sales) AS highest_number\n",
    "FROM superstore\n",
    "GROUP BY Order_ID\n",
    "ORDER BY  highest_number DESC\n",
    "LIMIT 1;"
   ]
  },
  {
   "cell_type": "markdown",
   "id": "bf04f55b-2d14-458d-8a2a-5285ae617be5",
   "metadata": {},
   "source": [
    "## 9. Write an SQL query to solve Which segment’s order is more likely to be shipped via first class?\n"
   ]
  },
  {
   "cell_type": "code",
   "execution_count": 225,
   "id": "3b9b4583-eeeb-41ae-80e3-a210c1bb3a89",
   "metadata": {},
   "outputs": [
    {
     "data": {
      "text/plain": [
       "Segment\n",
       "Home Office    17.049408\n",
       "Name: Ship_Mode, dtype: float64"
      ]
     },
     "execution_count": 225,
     "metadata": {},
     "output_type": "execute_result"
    }
   ],
   "source": [
    "#((df[df['Ship_Mode'] == 'First Class'].groupby(['Segment'])['Ship_Mode'].count())*100/df.groupby(['Segment'])['Ship_Mode'].count()).sort_values(ascending=False)[:1]"
   ]
  },
  {
   "cell_type": "code",
   "execution_count": 224,
   "id": "eb3592ac-66b8-4042-9278-1ff489a8e8e7",
   "metadata": {},
   "outputs": [
    {
     "data": {
      "text/plain": [
       "Segment\n",
       "Consumer       4231\n",
       "Corporate      2436\n",
       "Home Office    1437\n",
       "Name: Ship_Mode, dtype: int64"
      ]
     },
     "execution_count": 224,
     "metadata": {},
     "output_type": "execute_result"
    }
   ],
   "source": [
    "df.groupby(['Segment'])['Ship_Mode'].count()"
   ]
  },
  {
   "cell_type": "code",
   "execution_count": 220,
   "id": "1b80b0e8-ac79-4bda-97f8-d12a3775bd2e",
   "metadata": {},
   "outputs": [
    {
     "data": {
      "text/plain": [
       "Segment\n",
       "Consumer       685\n",
       "Corporate      414\n",
       "Home Office    245\n",
       "Name: Ship_Mode, dtype: int64"
      ]
     },
     "execution_count": 220,
     "metadata": {},
     "output_type": "execute_result"
    }
   ],
   "source": [
    "df[df['Ship_Mode'] == 'First Class'].groupby(['Segment'])['Ship_Mode'].count()#.sort_values(ascending=False)[:1]"
   ]
  },
  {
   "cell_type": "code",
   "execution_count": null,
   "id": "24c1f9b0-9515-4f0f-8f7a-2b7dce94d908",
   "metadata": {},
   "outputs": [],
   "source": [
    "SELECT Segment, SUM(Ship_Mode)  AS shipped\n",
    "FROM superstore\n",
    "WHERE Ship_Mode = 'First Class'\n",
    "GROUP BY Segment\n",
    "ORDER BY shipped ASC\n",
    "LIMIT 1;"
   ]
  },
  {
   "cell_type": "markdown",
   "id": "463c3459-f40e-4eaf-81d2-3aec72e3c75a",
   "metadata": {},
   "source": [
    "## 10. Write an SQL query to solve the given problem statement. Which city is least contributing to total revenue?\n"
   ]
  },
  {
   "cell_type": "code",
   "execution_count": 214,
   "id": "1623e439-5782-4c54-9525-93fe8f9e9620",
   "metadata": {},
   "outputs": [
    {
     "data": {
      "text/plain": [
       "1897558.6682"
      ]
     },
     "execution_count": 214,
     "metadata": {},
     "output_type": "execute_result"
    }
   ],
   "source": [
    "df['Sales'].sum()"
   ]
  },
  {
   "cell_type": "code",
   "execution_count": 217,
   "id": "cf613e7d-2f00-4148-945e-f9254909ae74",
   "metadata": {},
   "outputs": [
    {
     "data": {
      "text/plain": [
       "City\n",
       "Abilene    1.392\n",
       "Name: Sales, dtype: float64"
      ]
     },
     "execution_count": 217,
     "metadata": {},
     "output_type": "execute_result"
    }
   ],
   "source": [
    "df.groupby(['City'])['Sales'].sum().sort_values(ascending=True)[:1]"
   ]
  },
  {
   "cell_type": "code",
   "execution_count": null,
   "id": "4438a104-9fa4-4ece-b2ff-16392f409dc7",
   "metadata": {},
   "outputs": [],
   "source": [
    "SELECT City, SUM(Sales) AS revenue\n",
    "FROM superstore\n",
    "GROUP BY City\n",
    "ORDER BY revenue ASC\n",
    "LIMIT 1;"
   ]
  },
  {
   "cell_type": "markdown",
   "id": "32a2dcea-4807-4e60-a48f-135c6f301865",
   "metadata": {},
   "source": [
    "## 11. Write an SQL query to solve what is the average time for orders to get shipped after order is placed?\n"
   ]
  },
  {
   "cell_type": "code",
   "execution_count": 2,
   "id": "d056bcfe-a398-4b5d-b987-0dcd068d1627",
   "metadata": {},
   "outputs": [
    {
     "ename": "NameError",
     "evalue": "name 'df' is not defined",
     "output_type": "error",
     "traceback": [
      "\u001b[0;31m---------------------------------------------------------------------------\u001b[0m",
      "\u001b[0;31mNameError\u001b[0m                                 Traceback (most recent call last)",
      "Cell \u001b[0;32mIn [2], line 2\u001b[0m\n\u001b[1;32m      1\u001b[0m \u001b[38;5;66;03m#pd.Timedelta(df['Ship_Date'] - df['Order_Date']) \u001b[39;00m\n\u001b[0;32m----> 2\u001b[0m (\u001b[43mdf\u001b[49m[\u001b[38;5;124m'\u001b[39m\u001b[38;5;124mShip_Date\u001b[39m\u001b[38;5;124m'\u001b[39m] \u001b[38;5;241m-\u001b[39m df[\u001b[38;5;124m'\u001b[39m\u001b[38;5;124mOrder_Date\u001b[39m\u001b[38;5;124m'\u001b[39m])\u001b[38;5;241m.\u001b[39mmean()\n",
      "\u001b[0;31mNameError\u001b[0m: name 'df' is not defined"
     ]
    }
   ],
   "source": [
    "#pd.Timedelta(df['Ship_Date'] - df['Order_Date']) \n",
    "(df['Ship_Date'] - df['Order_Date']).mean()\n"
   ]
  },
  {
   "cell_type": "raw",
   "id": "bfef7747-64a3-4487-9132-97a71fc78f70",
   "metadata": {},
   "source": [
    "SELECT  AVG(DATEDIFF(Ship_Date,Order_Date)) AS avg_ship_time\n",
    "FROM superstore"
   ]
  },
  {
   "cell_type": "markdown",
   "id": "412b1bcc-a544-4385-81bb-be37bf390222",
   "metadata": {},
   "source": [
    "## 12. Write an SQL query to solve the given problem statement. Which segment places the highest number of orders from each state and which segment places the largest individual orders from each state?\n"
   ]
  },
  {
   "cell_type": "code",
   "execution_count": 273,
   "id": "44296feb-70c4-4d3d-a234-350b18dbd372",
   "metadata": {},
   "outputs": [
    {
     "data": {
      "text/html": [
       "<div>\n",
       "<style scoped>\n",
       "    .dataframe tbody tr th:only-of-type {\n",
       "        vertical-align: middle;\n",
       "    }\n",
       "\n",
       "    .dataframe tbody tr th {\n",
       "        vertical-align: top;\n",
       "    }\n",
       "\n",
       "    .dataframe thead th {\n",
       "        text-align: right;\n",
       "    }\n",
       "</style>\n",
       "<table border=\"1\" class=\"dataframe\">\n",
       "  <thead>\n",
       "    <tr style=\"text-align: right;\">\n",
       "      <th></th>\n",
       "      <th></th>\n",
       "      <th>Order_ID</th>\n",
       "    </tr>\n",
       "    <tr>\n",
       "      <th>State</th>\n",
       "      <th>Segment</th>\n",
       "      <th></th>\n",
       "    </tr>\n",
       "  </thead>\n",
       "  <tbody>\n",
       "    <tr>\n",
       "      <th rowspan=\"3\" valign=\"top\">Alabama</th>\n",
       "      <th>Consumer</th>\n",
       "      <td>19</td>\n",
       "    </tr>\n",
       "    <tr>\n",
       "      <th>Corporate</th>\n",
       "      <td>26</td>\n",
       "    </tr>\n",
       "    <tr>\n",
       "      <th>Home Office</th>\n",
       "      <td>6</td>\n",
       "    </tr>\n",
       "    <tr>\n",
       "      <th rowspan=\"2\" valign=\"top\">Arizona</th>\n",
       "      <th>Consumer</th>\n",
       "      <td>94</td>\n",
       "    </tr>\n",
       "    <tr>\n",
       "      <th>Corporate</th>\n",
       "      <td>54</td>\n",
       "    </tr>\n",
       "    <tr>\n",
       "      <th>...</th>\n",
       "      <th>...</th>\n",
       "      <td>...</td>\n",
       "    </tr>\n",
       "    <tr>\n",
       "      <th>West Virginia</th>\n",
       "      <th>Home Office</th>\n",
       "      <td>3</td>\n",
       "    </tr>\n",
       "    <tr>\n",
       "      <th rowspan=\"3\" valign=\"top\">Wisconsin</th>\n",
       "      <th>Consumer</th>\n",
       "      <td>33</td>\n",
       "    </tr>\n",
       "    <tr>\n",
       "      <th>Corporate</th>\n",
       "      <td>40</td>\n",
       "    </tr>\n",
       "    <tr>\n",
       "      <th>Home Office</th>\n",
       "      <td>17</td>\n",
       "    </tr>\n",
       "    <tr>\n",
       "      <th>Wyoming</th>\n",
       "      <th>Home Office</th>\n",
       "      <td>1</td>\n",
       "    </tr>\n",
       "  </tbody>\n",
       "</table>\n",
       "<p>136 rows × 1 columns</p>\n",
       "</div>"
      ],
      "text/plain": [
       "                           Order_ID\n",
       "State         Segment              \n",
       "Alabama       Consumer           19\n",
       "              Corporate          26\n",
       "              Home Office         6\n",
       "Arizona       Consumer           94\n",
       "              Corporate          54\n",
       "...                             ...\n",
       "West Virginia Home Office         3\n",
       "Wisconsin     Consumer           33\n",
       "              Corporate          40\n",
       "              Home Office        17\n",
       "Wyoming       Home Office         1\n",
       "\n",
       "[136 rows x 1 columns]"
      ]
     },
     "execution_count": 273,
     "metadata": {},
     "output_type": "execute_result"
    }
   ],
   "source": [
    "#Segment , Order_ID, State\n",
    "\n",
    "df_s = pd.DataFrame()\n",
    "df_s = pd.DataFrame(df.groupby(['State','Segment'])['Order_ID'].count())\n",
    "df_s.max()\n",
    "df_s"
   ]
  },
  {
   "cell_type": "code",
   "execution_count": 279,
   "id": "14758a8f-38e3-4d50-8219-7e9f039b441d",
   "metadata": {},
   "outputs": [
    {
     "data": {
      "text/html": [
       "<div>\n",
       "<style scoped>\n",
       "    .dataframe tbody tr th:only-of-type {\n",
       "        vertical-align: middle;\n",
       "    }\n",
       "\n",
       "    .dataframe tbody tr th {\n",
       "        vertical-align: top;\n",
       "    }\n",
       "\n",
       "    .dataframe thead th {\n",
       "        text-align: right;\n",
       "    }\n",
       "</style>\n",
       "<table border=\"1\" class=\"dataframe\">\n",
       "  <thead>\n",
       "    <tr style=\"text-align: right;\">\n",
       "      <th></th>\n",
       "      <th>State</th>\n",
       "      <th>Segment</th>\n",
       "      <th>Order_ID</th>\n",
       "    </tr>\n",
       "  </thead>\n",
       "  <tbody>\n",
       "    <tr>\n",
       "      <th>135</th>\n",
       "      <td>Wyoming</td>\n",
       "      <td>Home Office</td>\n",
       "      <td>1</td>\n",
       "    </tr>\n",
       "    <tr>\n",
       "      <th>69</th>\n",
       "      <td>Montana</td>\n",
       "      <td>Consumer</td>\n",
       "      <td>1</td>\n",
       "    </tr>\n",
       "    <tr>\n",
       "      <th>130</th>\n",
       "      <td>West Virginia</td>\n",
       "      <td>Consumer</td>\n",
       "      <td>1</td>\n",
       "    </tr>\n",
       "    <tr>\n",
       "      <th>21</th>\n",
       "      <td>District of Columbia</td>\n",
       "      <td>Home Office</td>\n",
       "      <td>1</td>\n",
       "    </tr>\n",
       "    <tr>\n",
       "      <th>112</th>\n",
       "      <td>South Carolina</td>\n",
       "      <td>Home Office</td>\n",
       "      <td>1</td>\n",
       "    </tr>\n",
       "    <tr>\n",
       "      <th>...</th>\n",
       "      <td>...</td>\n",
       "      <td>...</td>\n",
       "      <td>...</td>\n",
       "    </tr>\n",
       "    <tr>\n",
       "      <th>11</th>\n",
       "      <td>California</td>\n",
       "      <td>Home Office</td>\n",
       "      <td>289</td>\n",
       "    </tr>\n",
       "    <tr>\n",
       "      <th>118</th>\n",
       "      <td>Texas</td>\n",
       "      <td>Consumer</td>\n",
       "      <td>457</td>\n",
       "    </tr>\n",
       "    <tr>\n",
       "      <th>10</th>\n",
       "      <td>California</td>\n",
       "      <td>Corporate</td>\n",
       "      <td>494</td>\n",
       "    </tr>\n",
       "    <tr>\n",
       "      <th>87</th>\n",
       "      <td>New York</td>\n",
       "      <td>Consumer</td>\n",
       "      <td>523</td>\n",
       "    </tr>\n",
       "    <tr>\n",
       "      <th>9</th>\n",
       "      <td>California</td>\n",
       "      <td>Consumer</td>\n",
       "      <td>857</td>\n",
       "    </tr>\n",
       "  </tbody>\n",
       "</table>\n",
       "<p>136 rows × 3 columns</p>\n",
       "</div>"
      ],
      "text/plain": [
       "                    State      Segment  Order_ID\n",
       "135               Wyoming  Home Office         1\n",
       "69                Montana     Consumer         1\n",
       "130         West Virginia     Consumer         1\n",
       "21   District of Columbia  Home Office         1\n",
       "112        South Carolina  Home Office         1\n",
       "..                    ...          ...       ...\n",
       "11             California  Home Office       289\n",
       "118                 Texas     Consumer       457\n",
       "10             California    Corporate       494\n",
       "87               New York     Consumer       523\n",
       "9              California     Consumer       857\n",
       "\n",
       "[136 rows x 3 columns]"
      ]
     },
     "execution_count": 279,
     "metadata": {},
     "output_type": "execute_result"
    }
   ],
   "source": [
    "df.groupby(['State','Segment'],as_index=False).Order_ID.count().sort_values(['Order_ID'])"
   ]
  },
  {
   "cell_type": "code",
   "execution_count": 252,
   "id": "a2ad47f8-04d7-42d3-b01c-1fc3baf22fd0",
   "metadata": {},
   "outputs": [
    {
     "data": {
      "text/html": [
       "<div>\n",
       "<style scoped>\n",
       "    .dataframe tbody tr th:only-of-type {\n",
       "        vertical-align: middle;\n",
       "    }\n",
       "\n",
       "    .dataframe tbody tr th {\n",
       "        vertical-align: top;\n",
       "    }\n",
       "\n",
       "    .dataframe thead th {\n",
       "        text-align: right;\n",
       "    }\n",
       "</style>\n",
       "<table border=\"1\" class=\"dataframe\">\n",
       "  <thead>\n",
       "    <tr style=\"text-align: right;\">\n",
       "      <th></th>\n",
       "      <th></th>\n",
       "      <th>Order_ID</th>\n",
       "    </tr>\n",
       "    <tr>\n",
       "      <th>State</th>\n",
       "      <th>Segment</th>\n",
       "      <th></th>\n",
       "    </tr>\n",
       "  </thead>\n",
       "  <tbody>\n",
       "    <tr>\n",
       "      <th rowspan=\"3\" valign=\"top\">Alabama</th>\n",
       "      <th>Consumer</th>\n",
       "      <td>19</td>\n",
       "    </tr>\n",
       "    <tr>\n",
       "      <th>Corporate</th>\n",
       "      <td>26</td>\n",
       "    </tr>\n",
       "    <tr>\n",
       "      <th>Home Office</th>\n",
       "      <td>6</td>\n",
       "    </tr>\n",
       "    <tr>\n",
       "      <th rowspan=\"2\" valign=\"top\">Arizona</th>\n",
       "      <th>Consumer</th>\n",
       "      <td>94</td>\n",
       "    </tr>\n",
       "    <tr>\n",
       "      <th>Corporate</th>\n",
       "      <td>54</td>\n",
       "    </tr>\n",
       "    <tr>\n",
       "      <th>...</th>\n",
       "      <th>...</th>\n",
       "      <td>...</td>\n",
       "    </tr>\n",
       "    <tr>\n",
       "      <th>West Virginia</th>\n",
       "      <th>Home Office</th>\n",
       "      <td>3</td>\n",
       "    </tr>\n",
       "    <tr>\n",
       "      <th rowspan=\"3\" valign=\"top\">Wisconsin</th>\n",
       "      <th>Consumer</th>\n",
       "      <td>33</td>\n",
       "    </tr>\n",
       "    <tr>\n",
       "      <th>Corporate</th>\n",
       "      <td>40</td>\n",
       "    </tr>\n",
       "    <tr>\n",
       "      <th>Home Office</th>\n",
       "      <td>17</td>\n",
       "    </tr>\n",
       "    <tr>\n",
       "      <th>Wyoming</th>\n",
       "      <th>Home Office</th>\n",
       "      <td>1</td>\n",
       "    </tr>\n",
       "  </tbody>\n",
       "</table>\n",
       "<p>136 rows × 1 columns</p>\n",
       "</div>"
      ],
      "text/plain": [
       "                           Order_ID\n",
       "State         Segment              \n",
       "Alabama       Consumer           19\n",
       "              Corporate          26\n",
       "              Home Office         6\n",
       "Arizona       Consumer           94\n",
       "              Corporate          54\n",
       "...                             ...\n",
       "West Virginia Home Office         3\n",
       "Wisconsin     Consumer           33\n",
       "              Corporate          40\n",
       "              Home Office        17\n",
       "Wyoming       Home Office         1\n",
       "\n",
       "[136 rows x 1 columns]"
      ]
     },
     "execution_count": 252,
     "metadata": {},
     "output_type": "execute_result"
    }
   ],
   "source": []
  },
  {
   "cell_type": "markdown",
   "id": "aa72e334-dadf-41d4-b52e-57dfe958db55",
   "metadata": {},
   "source": [
    "## 13. Write an SQL query to find all the customers who individually ordered on 3 consecutive days where each day’s total order was more than 50 in value. **\n",
    "\n"
   ]
  },
  {
   "cell_type": "markdown",
   "id": "5cbaee52-17b9-4f1c-a910-a60161fc5cf0",
   "metadata": {},
   "source": [
    "## 14.Write an SQL query to Find the maximum number of days for which total sales on each day kept rising.**\n"
   ]
  },
  {
   "cell_type": "code",
   "execution_count": null,
   "id": "1bbf9c4a-3fe8-413d-b135-045e3fbf9e8d",
   "metadata": {},
   "outputs": [],
   "source": []
  }
 ],
 "metadata": {
  "kernelspec": {
   "display_name": "Python 3 (ipykernel)",
   "language": "python",
   "name": "python3"
  },
  "language_info": {
   "codemirror_mode": {
    "name": "ipython",
    "version": 3
   },
   "file_extension": ".py",
   "mimetype": "text/x-python",
   "name": "python",
   "nbconvert_exporter": "python",
   "pygments_lexer": "ipython3",
   "version": "3.8.16"
  }
 },
 "nbformat": 4,
 "nbformat_minor": 5
}
