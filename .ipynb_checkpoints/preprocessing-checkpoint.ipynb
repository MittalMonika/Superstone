{
 "cells": [
  {
   "cell_type": "raw",
   "id": "2ce0bc70-9630-4dfc-a6d3-eeece52b2d10",
   "metadata": {},
   "source": [
    "#Superstore Sales Analysis\n",
    "The initial stage of data analysis entails pre-processing, which encompasses several steps:\n",
    "Step 1: Eliminating duplicate rows, except for the Row_ID column.\n",
    "Step 2: Removing rows that contain a few missing values.\n",
    "Step 3: Disregarding any irrelevant values in each column, if any.\n",
    "Ensuring that all values in a column are valid (e.g., ensuring that the order date and ship date values are in the correct date format).\n",
    "Additionally, for each entry in the dataset, the ship date must be greater than or equal to the order date.\n",
    "Step 4: Exporting the cleaned dataset as a .csv file with a preference for UTF-8 encoding"
   ]
  },
  {
   "cell_type": "code",
   "execution_count": null,
   "id": "0c5a0606-4d37-4b39-89d0-fc624f69673c",
   "metadata": {},
   "outputs": [],
   "source": [
    "# Utilizing the data file \"superstore_final_dataset.csv\". For easy interpratation we will convert it into dataframe \n",
    "import pandas as pd\n",
    "import numpy as np\n",
    "df = pd.read_csv(\"superstore_final_dataset.csv\")\n",
    "df"
   ]
  },
  {
   "cell_type": "code",
   "execution_count": null,
   "id": "9a75b1c5-038b-4d95-a8fb-f792f54a8a1a",
   "metadata": {},
   "outputs": [],
   "source": [
    "df.shape\n",
    "#it has 9800 rows and 18 columns of different data type"
   ]
  },
  {
   "cell_type": "code",
   "execution_count": null,
   "id": "fef15c9f-7960-4f73-84a5-562de6edc9f0",
   "metadata": {},
   "outputs": [],
   "source": [
    "#Step 1: Eliminating duplicate rows, except for the Row_ID column.\n",
    "df.keys()\n",
    "colname=['Order_ID', 'Order_Date', 'Ship_Date', 'Ship_Mode',\n",
    "       'Customer_ID', 'Customer_Name', 'Segment', 'Country', 'City', 'State',\n",
    "       'Postal_Code', 'Region', 'Product_ID', 'Category', 'Sub_Category',\n",
    "       'Product_Name', 'Sales']\n",
    "df.drop_duplicates(subset=colname,inplace=True)\n",
    "df.shape\n"
   ]
  },
  {
   "cell_type": "code",
   "execution_count": null,
   "id": "ea4c7ff8-9aff-461f-836c-46145cfd7a6b",
   "metadata": {},
   "outputs": [],
   "source": [
    "#Step 2: Removing rows that contain a few missing values.\n",
    "nan_values = df[df.isna().any(axis=1)]\n",
    "#print(len(nan_values),nan_values) #= 11\n",
    "null_values=df[df.isnull().any(axis=1)]\n",
    "#print(len(null_values),null_values)\n",
    "\n",
    "df.dropna(axis = 0, how ='any',inplace=True)\n",
    "df.shape"
   ]
  },
  {
   "cell_type": "code",
   "execution_count": null,
   "id": "1c4a5dde-00d4-42c5-b9a5-17863e22f6aa",
   "metadata": {},
   "outputs": [],
   "source": [
    "#Step3 Remove irrelevant values from each column if any. \n",
    "#Validation of all values for a column( order date and ship date value must be in correct date format )\n",
    "#For each entry in dataset ship date >= order date\n",
    "df[['OD', 'SD']] = df[['Order_Date', 'Ship_Date']].apply(pd.to_datetime,dayfirst=True)\n",
    "df= df[df['OD']<df['SD']]\n",
    "df.shape\n",
    "#df.keys()\n",
    "#drop newly add columns\n",
    "#df.drop(columns=['OD', 'SD'],axis=1,inplace=True)"
   ]
  },
  {
   "cell_type": "code",
   "execution_count": null,
   "id": "16ddabb5-4093-459a-8783-0642fe8ff89f",
   "metadata": {},
   "outputs": [],
   "source": [
    "#Step4 :Export the cleaned dataset as a .csv file: prefer UTF-8 encoding\n",
    "df.to_csv('superstore_dataset.csv', encoding='utf-8')"
   ]
  },
  {
   "cell_type": "code",
   "execution_count": null,
   "id": "1d1b7d2e-ea6d-4931-8398-387d471dcff3",
   "metadata": {},
   "outputs": [],
   "source": [
    "#Convert the pre-processed dataset into an SQL file and import it \n",
    "to table named \"superstore\" using credentials provided in \"DataBase Info\" Tab. \n"
   ]
  },
  {
   "cell_type": "code",
   "execution_count": null,
   "id": "a972339c-13c5-438f-b8ea-3fb63d27728f",
   "metadata": {},
   "outputs": [],
   "source": []
  }
 ],
 "metadata": {
  "kernelspec": {
   "display_name": "Python 3 (ipykernel)",
   "language": "python",
   "name": "python3"
  },
  "language_info": {
   "codemirror_mode": {
    "name": "ipython",
    "version": 3
   },
   "file_extension": ".py",
   "mimetype": "text/x-python",
   "name": "python",
   "nbconvert_exporter": "python",
   "pygments_lexer": "ipython3",
   "version": "3.8.16"
  }
 },
 "nbformat": 4,
 "nbformat_minor": 5
}
