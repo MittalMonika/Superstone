{
 "cells": [
  {
   "cell_type": "code",
   "execution_count": null,
   "id": "8631d32d-2065-4047-bc58-ef31c193b025",
   "metadata": {},
   "outputs": [],
   "source": [
    "#Superstore Sales Analysis\n",
    "The initial stage of data analysis entails pre-processing, which encompasses several steps:\n",
    "Step 1: Eliminating duplicate rows, except for the Row_ID column.\n",
    "Step 2: Removing rows that contain a few missing values.\n",
    "Step 3: Disregarding any irrelevant values in each column, if any.\n",
    "Ensuring that all values in a column are valid (e.g., ensuring that the order date and ship date values are in the correct date format).\n",
    "Additionally, for each entry in the dataset, the ship date must be greater than or equal to the order date.\n",
    "Step 4: Exporting the cleaned dataset as a .csv file with a preference for UTF-8 encoding"
   ]
  },
  {
   "cell_type": "code",
   "execution_count": null,
   "id": "a9c53573-8a44-4a03-9bcb-21b046dcc284",
   "metadata": {},
   "outputs": [],
   "source": [
    "#Let first look into the csv file\n"
   ]
  }
 ],
 "metadata": {
  "kernelspec": {
   "display_name": "Python 3 (ipykernel)",
   "language": "python",
   "name": "python3"
  },
  "language_info": {
   "codemirror_mode": {
    "name": "ipython",
    "version": 3
   },
   "file_extension": ".py",
   "mimetype": "text/x-python",
   "name": "python",
   "nbconvert_exporter": "python",
   "pygments_lexer": "ipython3",
   "version": "3.8.16"
  }
 },
 "nbformat": 4,
 "nbformat_minor": 5
}
